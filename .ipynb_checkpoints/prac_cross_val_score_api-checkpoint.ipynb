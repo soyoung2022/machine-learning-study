{
 "cells": [
  {
   "cell_type": "code",
   "execution_count": 3,
   "id": "242c9a8a",
   "metadata": {},
   "outputs": [],
   "source": [
    "from sklearn.tree import DecisionTreeClassifier\n",
    "from sklearn.model_selection import cross_val_score, cross_validate\n",
    "from sklearn.datasets import load_iris\n",
    "import numpy as np"
   ]
  },
  {
   "cell_type": "code",
   "execution_count": 10,
   "id": "b0ab0a82",
   "metadata": {},
   "outputs": [],
   "source": [
    "iris_data = load_iris()\n",
    "data = iris_data.data # feature datasets\n",
    "label = iris_data.target # label datasets\n",
    "\n",
    "dt_clf = DecisionTreeClassifier(random_state=156)"
   ]
  },
  {
   "cell_type": "code",
   "execution_count": 11,
   "id": "0bd60d70",
   "metadata": {},
   "outputs": [
    {
     "name": "stdout",
     "output_type": "stream",
     "text": [
      "교차 검증별 정확도: [0.98 0.94 0.98]\n",
      "평균 검증 정확도: 0.9667\n"
     ]
    }
   ],
   "source": [
    "# 성능 지표는 정확도(accuracy), 교차 검증 세트는 3개로 설정\n",
    "scores = cross_val_score(dt_clf, data, label, scoring='accuracy', cv=3)\n",
    "print('교차 검증별 정확도:', np.round(scores, 4))\n",
    "print('평균 검증 정확도:', np.round(np.mean(scores), 4))"
   ]
  },
  {
   "cell_type": "markdown",
   "id": "00bfd2ec",
   "metadata": {},
   "source": [
    "## 정리\n",
    "### 신기한 점\n",
    "> DecisionTreeClassifier(random_state=156)에서 random_state의 값을 1, 2,... 등 다른 일정한 숫자 값으로 변경 시 scores와 np.mean(scores)가 바뀐다! 무슨 의미일까..."
   ]
  }
 ],
 "metadata": {
  "kernelspec": {
   "display_name": "Python 3",
   "language": "python",
   "name": "python3"
  },
  "language_info": {
   "codemirror_mode": {
    "name": "ipython",
    "version": 3
   },
   "file_extension": ".py",
   "mimetype": "text/x-python",
   "name": "python",
   "nbconvert_exporter": "python",
   "pygments_lexer": "ipython3",
   "version": "3.8.8"
  }
 },
 "nbformat": 4,
 "nbformat_minor": 5
}

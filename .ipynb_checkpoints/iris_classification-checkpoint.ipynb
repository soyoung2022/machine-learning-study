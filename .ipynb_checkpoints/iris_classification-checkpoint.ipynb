{
 "cells": [
  {
   "cell_type": "code",
   "execution_count": 1,
   "id": "f27be2af",
   "metadata": {},
   "outputs": [],
   "source": [
    "import sklearn"
   ]
  },
  {
   "cell_type": "code",
   "execution_count": 2,
   "id": "c30adb90",
   "metadata": {},
   "outputs": [
    {
     "name": "stdout",
     "output_type": "stream",
     "text": [
      "1.0.2\n"
     ]
    }
   ],
   "source": [
    "# 사이킷런 버전 확인하기\n",
    "print(sklearn.__version__)"
   ]
  },
  {
   "cell_type": "code",
   "execution_count": 3,
   "id": "80829dc8",
   "metadata": {},
   "outputs": [],
   "source": [
    "from sklearn.datasets import load_iris # for 붓꽃 데이터 세트 생성 \n",
    "from sklearn.tree import DecisionTreeClassifier # for 의사 결정 트리 알고리즘 \n",
    "from sklearn.model_selection import train_test_split # for 학습, 테스트 데이터 분리"
   ]
  },
  {
   "cell_type": "code",
   "execution_count": 4,
   "id": "5459ac05",
   "metadata": {},
   "outputs": [],
   "source": [
    "import pandas as pd # for 데이터 분석"
   ]
  },
  {
   "cell_type": "code",
   "execution_count": 5,
   "id": "764bffa9",
   "metadata": {},
   "outputs": [
    {
     "name": "stdout",
     "output_type": "stream",
     "text": [
      "iris target값: [0 0 0 0 0 0 0 0 0 0 0 0 0 0 0 0 0 0 0 0 0 0 0 0 0 0 0 0 0 0 0 0 0 0 0 0 0\n",
      " 0 0 0 0 0 0 0 0 0 0 0 0 0 1 1 1 1 1 1 1 1 1 1 1 1 1 1 1 1 1 1 1 1 1 1 1 1\n",
      " 1 1 1 1 1 1 1 1 1 1 1 1 1 1 1 1 1 1 1 1 1 1 1 1 1 1 2 2 2 2 2 2 2 2 2 2 2\n",
      " 2 2 2 2 2 2 2 2 2 2 2 2 2 2 2 2 2 2 2 2 2 2 2 2 2 2 2 2 2 2 2 2 2 2 2 2 2\n",
      " 2 2]\n",
      "iris target명: ['setosa' 'versicolor' 'virginica']\n",
      "---iris_df.head(3)---\n"
     ]
    },
    {
     "data": {
      "text/html": [
       "<div>\n",
       "<style scoped>\n",
       "    .dataframe tbody tr th:only-of-type {\n",
       "        vertical-align: middle;\n",
       "    }\n",
       "\n",
       "    .dataframe tbody tr th {\n",
       "        vertical-align: top;\n",
       "    }\n",
       "\n",
       "    .dataframe thead th {\n",
       "        text-align: right;\n",
       "    }\n",
       "</style>\n",
       "<table border=\"1\" class=\"dataframe\">\n",
       "  <thead>\n",
       "    <tr style=\"text-align: right;\">\n",
       "      <th></th>\n",
       "      <th>sepal length (cm)</th>\n",
       "      <th>sepal width (cm)</th>\n",
       "      <th>petal length (cm)</th>\n",
       "      <th>petal width (cm)</th>\n",
       "      <th>label</th>\n",
       "    </tr>\n",
       "  </thead>\n",
       "  <tbody>\n",
       "    <tr>\n",
       "      <th>0</th>\n",
       "      <td>5.1</td>\n",
       "      <td>3.5</td>\n",
       "      <td>1.4</td>\n",
       "      <td>0.2</td>\n",
       "      <td>0</td>\n",
       "    </tr>\n",
       "    <tr>\n",
       "      <th>1</th>\n",
       "      <td>4.9</td>\n",
       "      <td>3.0</td>\n",
       "      <td>1.4</td>\n",
       "      <td>0.2</td>\n",
       "      <td>0</td>\n",
       "    </tr>\n",
       "    <tr>\n",
       "      <th>2</th>\n",
       "      <td>4.7</td>\n",
       "      <td>3.2</td>\n",
       "      <td>1.3</td>\n",
       "      <td>0.2</td>\n",
       "      <td>0</td>\n",
       "    </tr>\n",
       "  </tbody>\n",
       "</table>\n",
       "</div>"
      ],
      "text/plain": [
       "   sepal length (cm)  sepal width (cm)  petal length (cm)  petal width (cm)  \\\n",
       "0                5.1               3.5                1.4               0.2   \n",
       "1                4.9               3.0                1.4               0.2   \n",
       "2                4.7               3.2                1.3               0.2   \n",
       "\n",
       "   label  \n",
       "0      0  \n",
       "1      0  \n",
       "2      0  "
      ]
     },
     "execution_count": 5,
     "metadata": {},
     "output_type": "execute_result"
    }
   ],
   "source": [
    "# 붓꽃 데이터 세트 로딩\n",
    "iris = load_iris()\n",
    "\n",
    "# iris.data는 Iris 데이터 세트에서 feature만으로 된 데이터를 numpy로 가짐\n",
    "iris_data = iris.data\n",
    "\n",
    "# iris.target은 붓꽃 데이터 세트에서 레이블(결정 값) 데이터를 numpy로 가짐\n",
    "iris_label = iris.target\n",
    "print('iris target값:', iris_label)\n",
    "print('iris target명:', iris.target_names)\n",
    "\n",
    "# 붓꽃 데이터 세트를 자세히 보기 위해 DataFrame으로 변환하기\n",
    "iris_df = pd.DataFrame(data=iris_data, columns=iris.feature_names)\n",
    "iris_df['label'] = iris.target\n",
    "print('---iris_df.head(3)---')\n",
    "iris_df.head(3)"
   ]
  },
  {
   "cell_type": "markdown",
   "id": "70514843",
   "metadata": {},
   "source": [
    "## 정리\n",
    "### feature\n",
    "- sepal length\n",
    "- sepal width\n",
    "- petal length\n",
    "- petal width\n",
    "\n",
    "### label - 품종\n",
    "- 0(setosa) \n",
    "- 1(versicolor)\n",
    "- 2(virginica)"
   ]
  },
  {
   "cell_type": "code",
   "execution_count": 6,
   "id": "df414f81",
   "metadata": {},
   "outputs": [],
   "source": [
    "# 학습용 데이터 vs 테스트용 데이터 분리(중요! 반드시 분리 필요) -> 이를 위해 사이킷런은 train_test_split() API 제공\n",
    "X_train, X_test, y_train, y_test = train_test_split(iris_data, iris_label, test_size=0.2, random_state=1) "
   ]
  },
  {
   "cell_type": "markdown",
   "id": "d7e80eb7",
   "metadata": {},
   "source": [
    "## 정리\n",
    "### test_size\n",
    "> test_size=0.2는 전체 데이터 중 20%를 테스트 데이터로, 80%를 학습용 데이터로 분할한다. \n",
    "\n",
    "### train_test_split\n",
    "> 파라미터 순서대로 feature dataset, label dataset, test_size=, random_state= 전달\n",
    "\n",
    "\n",
    "- random_state은 호출할 때마다 같은 학습/테스트용 데이터 세트를 생성하기 위해 주어지는 난수 발생 값이다. \n",
    "- train_test_split은 호출 시 무작위로 데이터를 분리하므로 random-state을 지정하지 않으면 수행할 때마다 다른 학습/테스트용 데이터를 만들 수 있음\n",
    "- random_state이 1과 같이 일정한 숫자이면 언제나 같은 데이터 세트로 분리된다.\n",
    "\n",
    "### 변수 설명\n",
    "- X_train : 학습용 feature dataset\n",
    "- X_test : 테스트용 feature dataset\n",
    "- y_train : 학습용 label dataset\n",
    "- y_test : 테스트용 label dataset"
   ]
  },
  {
   "cell_type": "code",
   "execution_count": 8,
   "id": "6fdbd114",
   "metadata": {},
   "outputs": [
    {
     "data": {
      "text/plain": [
       "DecisionTreeClassifier(random_state=11)"
      ]
     },
     "execution_count": 8,
     "metadata": {},
     "output_type": "execute_result"
    }
   ],
   "source": [
    "# 분리한 데이터 중 학습 데이터 가지고 학습과 예측 수행(이때, ML 알고리즘 중 의사 결정 트리 사용)\n",
    "\n",
    "# DecisionTreeClassifier 객체 생성\n",
    "dt_clf = DecisionTreeClassifier(random_state=11) # 파라미터로 random_state=11 전달해 동일한 학습/예측 결과를 출력하도록 함\n",
    "\n",
    "# 학습 수행\n",
    "dt_clf.fit(X_train, y_train)"
   ]
  },
  {
   "cell_type": "code",
   "execution_count": 9,
   "id": "809c0595",
   "metadata": {},
   "outputs": [],
   "source": [
    "# 예측 수행(학습 완료된 DecisionTreeClassifier 객체에서 테스트 데이터 세트로 예측 수행)\n",
    "# 예측에서는 반드시 학습 데이터 아닌 다른 데이터 사용 -> 일반적으로 test dataset 이용\n",
    "pred = dt_clf.predict(X_test)  # parameter : feature dataset for testing, return : prediction value at test dataset"
   ]
  },
  {
   "cell_type": "code",
   "execution_count": 10,
   "id": "1155761b",
   "metadata": {},
   "outputs": [
    {
     "name": "stdout",
     "output_type": "stream",
     "text": [
      "예측 정확도: 0.966667\n"
     ]
    }
   ],
   "source": [
    "# 예측 결과(pred)를 기반으로 DecisionTreeClassifier의 예측 성능 평가 -> 여러 방법 중 정확도 사용\n",
    "# 정확도 : 예측 결과가 실제 레이블 값과 얼마나 정확하게 맞는지를 평가하는 지표 -> 사이킷런에서 정확도 측정을 위해 accuracy_score() 함수를 제공\n",
    "from sklearn.metrics import accuracy_score\n",
    "print('예측 정확도: {0:4f}'.format(accuracy_score(y_test, pred))) # accuracy_score(real label dataset, predicted label dataset)"
   ]
  },
  {
   "cell_type": "markdown",
   "id": "e372ed12",
   "metadata": {},
   "source": [
    "## 붓꽃 데이터 세트로 분류를 예측한 프로세스 정리\n",
    "1. 데이터 세트 분리 : train_test_split(data, label, test_size=, random_state) 사용해 학습용, 테스트용 데이터 세트 분리하기\n",
    "2. 모델 학습 : 학습 데이터 기반으로 하여 ML 알고리즘 적용해 모델 학습시키기(이때, fit(train feature dataset, train label dataset) 사용해 학습 수행)\n",
    "3. 예측 수행 : 학습된 ML 모델과 predict(test feature dataset)를 이용해 테스트 데이터의 분류(즉, 붓꽃 종류)를 예측하기\n",
    "4. 평가 : 예측된 결괏값과 테스트 데이터의 실제 결괏값을 비교해 ML 모델 성능을 비교\n",
    "    - 많은 성능 평가 방법 중 정확도 사용 : accuracy_score(real label dataset, predicted label dataset)"
   ]
  }
 ],
 "metadata": {
  "kernelspec": {
   "display_name": "Python 3",
   "language": "python",
   "name": "python3"
  },
  "language_info": {
   "codemirror_mode": {
    "name": "ipython",
    "version": 3
   },
   "file_extension": ".py",
   "mimetype": "text/x-python",
   "name": "python",
   "nbconvert_exporter": "python",
   "pygments_lexer": "ipython3",
   "version": "3.8.8"
  }
 },
 "nbformat": 4,
 "nbformat_minor": 5
}

{
 "cells": [
  {
   "cell_type": "code",
   "execution_count": 2,
   "id": "890a6b83",
   "metadata": {},
   "outputs": [],
   "source": [
    "from sklearn.metrics import accuracy_score, precision_score, recall_score, confusion_matrix\n",
    "import numpy as np\n",
    "import pandas as pd"
   ]
  },
  {
   "cell_type": "code",
   "execution_count": 3,
   "id": "45a37561",
   "metadata": {},
   "outputs": [],
   "source": [
    "def get_clf_eval(y_test, pred):\n",
    "    confusion = confusion_matrix(y_test, pred)\n",
    "    accuracy = accuracy_score(y_test, pred)\n",
    "    precision = precision_score(y_test, pred)\n",
    "    recall = recall_score(y_test, pred)\n",
    "    print('오차 행렬')\n",
    "    print(confusion)\n",
    "    print('정확도: {0:.4f}, 정밀도: {1:.4f}, 재현율: {2:.4f}'.format(accuracy, precision, recall))"
   ]
  },
  {
   "cell_type": "code",
   "execution_count": 4,
   "id": "7c7180c0",
   "metadata": {},
   "outputs": [],
   "source": [
    "from sklearn.preprocessing import LabelEncoder\n",
    "\n",
    "# Null 처리 함수\n",
    "def fillna(df):\n",
    "    df['Age'].fillna(df['Age'].mean(), inplace=True)\n",
    "    df['Cabin'].fillna('N', inplace=True)\n",
    "    df['Embarked'].fillna('N', inplace=True)\n",
    "    df['Fare'].fillna(0, inplace=True)\n",
    "    \n",
    "    return df\n",
    "\n",
    "# 머신러닝 알고리즘에 불필요한 피처 제거 함수\n",
    "def drop_unnecessary_features(df):\n",
    "    df.drop(['PassengerId', 'Name', 'Ticket'], axis=1, inplace=True)\n",
    "    \n",
    "    return df\n",
    "\n",
    "# 레이블 인코딩 수행 함수\n",
    "def format_features(df):\n",
    "    df['Cabin'] = df['Cabin'].str[:1]\n",
    "    features = ['Cabin', 'Sex', 'Embarked']\n",
    "    for feature in features:\n",
    "        encoder = LabelEncoder()\n",
    "        encoder = encoder.fit(df[feature])\n",
    "        df[feature] = encoder.transform(df[feature])\n",
    "    \n",
    "    return df\n",
    "\n",
    "# 위 3개의 함수 호출하는 데이터 전처리 함수\n",
    "def transform_features(df):\n",
    "    df = fillna(df)\n",
    "    df = drop_unnecessary_features(df)\n",
    "    df = format_features(df)\n",
    "    \n",
    "    return df"
   ]
  },
  {
   "cell_type": "code",
   "execution_count": 5,
   "id": "7bbe13e7",
   "metadata": {},
   "outputs": [
    {
     "name": "stdout",
     "output_type": "stream",
     "text": [
      "오차 행렬\n",
      "[[108  10]\n",
      " [ 14  47]]\n",
      "정확도: 0.8659, 정밀도: 0.8246, 재현율: 0.7705\n"
     ]
    }
   ],
   "source": [
    "from sklearn.model_selection import train_test_split\n",
    "from sklearn.linear_model import LogisticRegression\n",
    "\n",
    "# 데이터 로딩 및 전처리\n",
    "titanic_df = pd.read_csv('./titanic_train.csv')\n",
    "y_titanic_df = titanic_df['Survived']\n",
    "X_titanic_df = titanic_df.drop('Survived', axis=1)\n",
    "X_titanic_df = transform_features(X_titanic_df)\n",
    "\n",
    "# 학습, 테스트 데이터 세트 분리\n",
    "X_train, X_test, y_train, y_test = train_test_split(X_titanic_df, y_titanic_df, test_size=0.2 , random_state=11)\n",
    "\n",
    "# 학습 및 예측 진행\n",
    "lr_clf = LogisticRegression(solver='liblinear')\n",
    "lr_clf.fit(X_train, y_train) \n",
    "pred = lr_clf.predict(X_test)\n",
    "\n",
    "# 평가 진행\n",
    "get_clf_eval(y_test, pred)"
   ]
  },
  {
   "cell_type": "code",
   "execution_count": 10,
   "id": "58eab42a",
   "metadata": {
    "scrolled": false
   },
   "outputs": [
    {
     "name": "stdout",
     "output_type": "stream",
     "text": [
      "pred_proba() 결과 Shape : (179, 2)\n",
      "pred_proba array에서 앞 3개만 샘플로 추출\n",
      "[[0.44935227 0.55064773]\n",
      " [0.86335512 0.13664488]\n",
      " [0.86429645 0.13570355]]\n",
      "두 개의 class 중에서 더 큰 확률을 클래스 값으로 예측\n",
      "[[0.44935227 0.55064773 1.        ]\n",
      " [0.86335512 0.13664488 0.        ]\n",
      " [0.86429645 0.13570355 0.        ]]\n"
     ]
    }
   ],
   "source": [
    "predict_proba = lr_clf.predict_proba(X_test)\n",
    "pred = lr_clf.predict(X_test)\n",
    "print('pred_proba() 결과 Shape : {0}'.format(predict_proba.shape))\n",
    "print('pred_proba array에서 앞 3개만 샘플로 추출')\n",
    "print(predict_proba[:3])\n",
    "\n",
    "# 예측 확률 array와 예측 결괏값 array를 병항해 한눈에 보기\n",
    "pred_proba_result = np.concatenate([predict_proba, pred.reshape(-1, 1)], axis=1)\n",
    "print('두 개의 class 중에서 더 큰 확률을 클래스 값으로 예측')\n",
    "print(pred_proba_result[:3])"
   ]
  },
  {
   "cell_type": "code",
   "execution_count": 17,
   "id": "6547cf7a",
   "metadata": {},
   "outputs": [
    {
     "name": "stdout",
     "output_type": "stream",
     "text": [
      "[0.55064773 0.13664488 0.13570355 0.15031481 0.17656589 0.15768776\n",
      " 0.1290451  0.72771396 0.21814871 0.66814007 0.13821236 0.12941901\n",
      " 0.13574048 0.12934055 0.43966454 0.14996976 0.11045826 0.25749268\n",
      " 0.28879775 0.76223727 0.24315893 0.37571831 0.15344752 0.17288741\n",
      " 0.1317437  0.22996172 0.17053651 0.0966387  0.26627952 0.31152612\n",
      " 0.92353131 0.7746788  0.12838058 0.75924584 0.37288266 0.22996172\n",
      " 0.09445724 0.59397424 0.06956414 0.12349478 0.30202577 0.10335406\n",
      " 0.78006622 0.6843429  0.62057771 0.62067108 0.9283872  0.4422243\n",
      " 0.92085513 0.13196917 0.49209939 0.12934055 0.14423594 0.6512987\n",
      " 0.28441583 0.21146798 0.2538079  0.13570998 0.15920996 0.40161937\n",
      " 0.26467919 0.11294402 0.45447199 0.44673659 0.37416473 0.11636721\n",
      " 0.64818744 0.60096648 0.91699187 0.14927476 0.13221179 0.16929074\n",
      " 0.12350957 0.94040086 0.21264241 0.12934055 0.283459   0.20840196\n",
      " 0.79696904 0.13570998 0.7599495  0.62876419 0.91630376 0.15981387\n",
      " 0.92233282 0.91026752 0.15276922 0.13758468 0.83460272 0.12934055\n",
      " 0.12934055 0.22996172 0.24583259 0.12934055 0.62067108 0.1011611\n",
      " 0.92638598 0.12102773 0.39802172 0.93261004 0.52051723 0.09530728\n",
      " 0.94326279 0.11819211 0.54412033 0.13866562 0.15025069 0.14927301\n",
      " 0.4449725  0.11573101 0.15252581 0.12730436 0.32461309 0.5172475\n",
      " 0.1317437  0.08402808 0.15805796 0.21127162 0.88858248 0.09465144\n",
      " 0.12928355 0.1309456  0.08474207 0.41803182 0.01974988 0.12928355\n",
      " 0.1278098  0.2880536  0.65651104 0.29773303 0.93261004 0.40194454\n",
      " 0.67114658 0.51355253 0.57135185 0.43653445 0.74146857 0.22356775\n",
      " 0.12367551 0.84990727 0.86565305 0.14927301 0.13227896 0.10371244\n",
      " 0.11386659 0.65202371 0.10082951 0.2700266  0.87778554 0.18280309\n",
      " 0.38134891 0.62629701 0.61651657 0.13536701 0.74838703 0.8961167\n",
      " 0.4235194  0.1452315  0.68584876 0.66092027 0.15652279 0.76738874\n",
      " 0.11140725 0.64779432 0.41445141 0.63856712 0.86365942 0.32202998\n",
      " 0.11399915 0.86053885 0.1290451  0.79383979 0.23280096 0.22562755\n",
      " 0.4967597  0.0892016  0.15029261 0.45125912 0.51807933]\n"
     ]
    }
   ],
   "source": [
    "print(predict_proba[:,1])"
   ]
  },
  {
   "cell_type": "code",
   "execution_count": 16,
   "id": "100c5e5c",
   "metadata": {},
   "outputs": [
    {
     "name": "stdout",
     "output_type": "stream",
     "text": [
      "[[0. 0. 1.]\n",
      " [1. 0. 0.]\n",
      " [0. 0. 1.]]\n"
     ]
    }
   ],
   "source": [
    "'''\n",
    "직접 임계값 설정해 해당 임계값을 기준으로 0과 1 값 정하는 fit_transform 메소드 수행하기\n",
    "'''\n",
    "from sklearn.preprocessing import Binarizer\n",
    "\n",
    "X = [[1,-1,2], [2,0,0], [0,1.1,1.2]]\n",
    "\n",
    "binarizer = Binarizer(threshold=1.1)\n",
    "print(binarizer.fit_transform(X))"
   ]
  },
  {
   "cell_type": "code",
   "execution_count": 18,
   "id": "3be24254",
   "metadata": {},
   "outputs": [
    {
     "name": "stdout",
     "output_type": "stream",
     "text": [
      "오차 행렬\n",
      "[[108  10]\n",
      " [ 14  47]]\n",
      "정확도: 0.8659, 정밀도: 0.8246, 재현율: 0.7705\n"
     ]
    }
   ],
   "source": [
    "# 분류 결정 임계값 0.5\n",
    "custom_threshold = 0.5\n",
    "\n",
    "pred_proba_1 = predict_proba[:,1].reshape(-1, 1)\n",
    "\n",
    "binarizer = Binarizer(threshold=custom_threshold).fit(pred_proba_1)\n",
    "custom_predict = binarizer.transform(pred_proba_1)\n",
    "\n",
    "get_clf_eval(y_test, custom_predict)"
   ]
  },
  {
   "cell_type": "code",
   "execution_count": 20,
   "id": "2af899b1",
   "metadata": {},
   "outputs": [
    {
     "name": "stdout",
     "output_type": "stream",
     "text": [
      "오차 행렬\n",
      "[[97 21]\n",
      " [11 50]]\n",
      "정확도: 0.8212, 정밀도: 0.7042, 재현율: 0.8197\n"
     ]
    }
   ],
   "source": [
    "# 분류 결정 임계값 0.4로 낮춰보기\n",
    "custom_threshold = 0.4\n",
    "binarizer = Binarizer(threshold=custom_threshold).fit(pred_proba_1)\n",
    "custom_predict = binarizer.transform(pred_proba_1)\n",
    "\n",
    "get_clf_eval(y_test, custom_predict)"
   ]
  },
  {
   "cell_type": "markdown",
   "id": "d4760b91",
   "metadata": {},
   "source": [
    "## 정리 - 임계값 0.4로 설정하고 나서\n",
    "1. 재현율은 높아졌다. \n",
    "2. 정밀도는 낮아졌다. \n",
    "> 임계값보다 높은 값은 Positive로, 낮거나 같은 값은 Negative로 설정하는 것을 기억해야 한다. 임계값이 0.5일 때는 Negative와 Positive의 발생 확률이 50%로 같았다면, 임계값이 0.4로 내려오면 Positive는 60%, Negative는 40%를 차지하는 것이다. 즉, Positive 값이 많아져 상대적으로 재현율이 올라가고 정밀도가 떨어지는 것이다. "
   ]
  },
  {
   "cell_type": "code",
   "execution_count": 22,
   "id": "4a2d6aad",
   "metadata": {},
   "outputs": [
    {
     "name": "stdout",
     "output_type": "stream",
     "text": [
      "임계값 =  0.4\n",
      "오차 행렬\n",
      "[[97 21]\n",
      " [11 50]]\n",
      "정확도: 0.8212, 정밀도: 0.7042, 재현율: 0.8197\n",
      "임계값 =  0.45\n",
      "오차 행렬\n",
      "[[105  13]\n",
      " [ 13  48]]\n",
      "정확도: 0.8547, 정밀도: 0.7869, 재현율: 0.7869\n",
      "임계값 =  0.5\n",
      "오차 행렬\n",
      "[[108  10]\n",
      " [ 14  47]]\n",
      "정확도: 0.8659, 정밀도: 0.8246, 재현율: 0.7705\n",
      "임계값 =  0.55\n",
      "오차 행렬\n",
      "[[111   7]\n",
      " [ 16  45]]\n",
      "정확도: 0.8715, 정밀도: 0.8654, 재현율: 0.7377\n",
      "임계값 =  0.6\n",
      "오차 행렬\n",
      "[[113   5]\n",
      " [ 17  44]]\n",
      "정확도: 0.8771, 정밀도: 0.8980, 재현율: 0.7213\n"
     ]
    }
   ],
   "source": [
    "thresholds = [0.4, 0.45, 0.5, 0.55, 0.6]\n",
    "\n",
    "def get_eval_by_threshold(y_test, pred_proba_1, thresholds):\n",
    "    # thresholds 리스트 내 값을 차례로 반복하며 평가하기\n",
    "    for custom_threshold in thresholds:\n",
    "        binarizer = Binarizer(threshold=custom_threshold).fit(pred_proba_1)\n",
    "        custom_predict = binarizer.transform(pred_proba_1)\n",
    "        print('임계값 = ',custom_threshold)\n",
    "        get_clf_eval(y_test, custom_predict)\n",
    "        \n",
    "get_eval_by_threshold(y_test, predict_proba[:, 1].reshape(-1, 1), thresholds)"
   ]
  },
  {
   "cell_type": "markdown",
   "id": "cb294252",
   "metadata": {},
   "source": [
    "## 정리\n",
    "- 임계값이 높아질수록 재현율은 낮아지고, 정밀도는 커진다. \n",
    "    -> 임계값에 따라 positive와 negative가 차지할 수 있는 비율을 생각하면 쉽다. "
   ]
  },
  {
   "cell_type": "code",
   "execution_count": 29,
   "id": "79c82cac",
   "metadata": {},
   "outputs": [
    {
     "name": "stdout",
     "output_type": "stream",
     "text": [
      "반환된 분류 결정 임곗값 배열의 shape =  (147,)\n",
      "샘플 추출을 위한 임계값 배열의 index 10개 :  [  0  15  30  45  60  75  90 105 120 135]\n",
      "샘플용 10개의 임계값 :  [0.12 0.13 0.15 0.17 0.26 0.38 0.49 0.63 0.76 0.9 ]\n",
      "샘플 임계값별 정밀도 :  [0.38 0.42 0.45 0.52 0.62 0.68 0.8  0.93 0.96 1.  ]\n",
      "샘플 임계값별 재현율 :  [1.   0.97 0.9  0.9  0.9  0.82 0.77 0.66 0.44 0.21]\n"
     ]
    }
   ],
   "source": [
    "from sklearn.metrics import precision_recall_curve\n",
    "\n",
    "pred_proba_class1 = lr_clf.predict_proba(X_test)[:,1]\n",
    "precisions, recalls, thresholds = precision_recall_curve(y_test, pred_proba_class1)\n",
    "print('반환된 분류 결정 임곗값 배열의 shape = ', thresholds.shape)\n",
    "\n",
    "thr_index = np.arange(0, thresholds.shape[0], 15)\n",
    "print('샘플 추출을 위한 임계값 배열의 index 10개 : ', thr_index)\n",
    "print('샘플용 10개의 임계값 : ', np.round(thresholds[thr_index], 2))\n",
    "print('샘플 임계값별 정밀도 : ', np.round(precisions[thr_index], 2))\n",
    "print('샘플 임계값별 재현율 : ', np.round(recalls[thr_index], 2))"
   ]
  },
  {
   "cell_type": "code",
   "execution_count": 41,
   "id": "52877e59",
   "metadata": {},
   "outputs": [
    {
     "data": {
      "image/png": "[encoded data removed]",
      "text/plain": [
       "<Figure size 576x432 with 1 Axes>"
      ]
     },
     "metadata": {
      "needs_background": "light"
     },
     "output_type": "display_data"
    }
   ],
   "source": [
    "'''\n",
    "정밀도와 재현율 곡선을 시각화하기\n",
    "'''\n",
    "import matplotlib.pyplot as plt\n",
    "import matplotlib.ticker as ticker\n",
    "%matplotlib inline\n",
    "\n",
    "def precision_recall_curve_plot(y_test, pred_proba_1):\n",
    "    # threshold ndarray와 임계값에 따른 정밀도와 재현율 ndarray 추출\n",
    "    precisions, recalls, thresholds = precision_recall_curve(y_test, pred_proba_1)\n",
    "    \n",
    "    plt.figure(figsize=(8, 6))\n",
    "    threshold_boundary = thresholds.shape[0]\n",
    "    plt.plot(thresholds, precisions[0:threshold_boundary], linestyle='--', label='precision')\n",
    "    plt.plot(thresholds, recalls[0:threshold_boundary], label='recall')\n",
    "    \n",
    "    # threshold 값 나타내는 X 축 scale을 0.1로 변경, 눈금(tick) 표시하기\n",
    "    start, end = plt.xlim()\n",
    "    plt.xticks(np.round(np.arange(start, end, 0.1), 2))\n",
    "    \n",
    "    # 축에 레이블 이름 설정하기 \n",
    "    plt.xlabel('Threshold value'); plt.ylabel('Precision and Recall value')\n",
    "    # plot() 함수에서 label로 범례 지정한 것 나타내기, 그래프에 격자 표시하기\n",
    "    plt.legend(); plt.grid()\n",
    "    # 그래프 화면에 나타내기\n",
    "    plt.show()\n",
    "\n",
    "precision_recall_curve_plot(y_test, lr_clf.predict_proba(X_test)[:,1])"
   ]
  },
  {
   "cell_type": "code",
   "execution_count": 42,
   "id": "82eab582",
   "metadata": {},
   "outputs": [
    {
     "name": "stdout",
     "output_type": "stream",
     "text": [
      "F1 스코어 = 0.7966\n"
     ]
    }
   ],
   "source": [
    "from sklearn.metrics import f1_score\n",
    "f1 = f1_score(y_test, pred)\n",
    "print('F1 스코어 = {0:.4f}'.format(f1))"
   ]
  },
  {
   "cell_type": "code",
   "execution_count": 43,
   "id": "f804ac30",
   "metadata": {},
   "outputs": [
    {
     "name": "stdout",
     "output_type": "stream",
     "text": [
      "임계값 =  0.4\n",
      "오차 행렬\n",
      "[[97 21]\n",
      " [11 50]]\n",
      "정확도 = 0.8212, 정밀도 = 0.7042, 재현율 = 0.8197, F1 = 0.7576\n",
      "임계값 =  0.45\n",
      "오차 행렬\n",
      "[[105  13]\n",
      " [ 13  48]]\n",
      "정확도 = 0.8547, 정밀도 = 0.7869, 재현율 = 0.7869, F1 = 0.7869\n",
      "임계값 =  0.5\n",
      "오차 행렬\n",
      "[[108  10]\n",
      " [ 14  47]]\n",
      "정확도 = 0.8659, 정밀도 = 0.8246, 재현율 = 0.7705, F1 = 0.7966\n",
      "임계값 =  0.55\n",
      "오차 행렬\n",
      "[[111   7]\n",
      " [ 16  45]]\n",
      "정확도 = 0.8715, 정밀도 = 0.8654, 재현율 = 0.7377, F1 = 0.7965\n",
      "임계값 =  0.6\n",
      "오차 행렬\n",
      "[[113   5]\n",
      " [ 17  44]]\n",
      "정확도 = 0.8771, 정밀도 = 0.8980, 재현율 = 0.7213, F1 = 0.8000\n"
     ]
    }
   ],
   "source": [
    "def get_clf_eval(y_test, pred):\n",
    "    confusion = confusion_matrix(y_test, pred)\n",
    "    accuracy = accuracy_score(y_test, pred)\n",
    "    precision = precision_score(y_test, pred)\n",
    "    recall = recall_score(y_test, pred)\n",
    "    f1 = f1_score(y_test, pred)\n",
    "    print('오차 행렬')\n",
    "    print(confusion)\n",
    "    print('정확도 = {0:.4f}, 정밀도 = {1:.4f}, 재현율 = {2:.4f}, F1 = {3:.4f}'.format(accuracy, precision, recall, f1))\n",
    "    \n",
    "thresholds = [0.4, 0.45, 0.5, 0.55, 0.6]\n",
    "pred_proba = lr_clf.predict_proba(X_test)\n",
    "get_eval_by_threshold(y_test, pred_proba[:,1].reshape(-1, 1), thresholds)"
   ]
  }
 ],
 "metadata": {
  "kernelspec": {
   "display_name": "Python 3",
   "language": "python",
   "name": "python3"
  },
  "language_info": {
   "codemirror_mode": {
    "name": "ipython",
    "version": 3
   },
   "file_extension": ".py",
   "mimetype": "text/x-python",
   "name": "python",
   "nbconvert_exporter": "python",
   "pygments_lexer": "ipython3",
   "version": "3.8.8"
  }
 },
 "nbformat": 4,
 "nbformat_minor": 5
}

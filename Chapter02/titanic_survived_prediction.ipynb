{
 "cells": [
  {
   "cell_type": "code",
   "execution_count": 2,
   "id": "ee3f4be6",
   "metadata": {},
   "outputs": [],
   "source": [
    "import pandas as pd\n",
    "import numpy as np\n",
    "import matplotlib.pyplot as plt\n",
    "import seaborn as sb\n",
    "# 명령의 출력이 주피터 노트북과 같은 프론트에서 실행되면, 결과를 셀 아래에 표시한다. \n",
    "%matplotlib inline   "
   ]
  },
  {
   "cell_type": "code",
   "execution_count": 3,
   "id": "a3d26626",
   "metadata": {},
   "outputs": [
    {
     "data": {
      "text/html": [
       "<div>\n",
       "<style scoped>\n",
       "    .dataframe tbody tr th:only-of-type {\n",
       "        vertical-align: middle;\n",
       "    }\n",
       "\n",
       "    .dataframe tbody tr th {\n",
       "        vertical-align: top;\n",
       "    }\n",
       "\n",
       "    .dataframe thead th {\n",
       "        text-align: right;\n",
       "    }\n",
       "</style>\n",
       "<table border=\"1\" class=\"dataframe\">\n",
       "  <thead>\n",
       "    <tr style=\"text-align: right;\">\n",
       "      <th></th>\n",
       "      <th>PassengerId</th>\n",
       "      <th>Survived</th>\n",
       "      <th>Pclass</th>\n",
       "      <th>Name</th>\n",
       "      <th>Sex</th>\n",
       "      <th>Age</th>\n",
       "      <th>SibSp</th>\n",
       "      <th>Parch</th>\n",
       "      <th>Ticket</th>\n",
       "      <th>Fare</th>\n",
       "      <th>Cabin</th>\n",
       "      <th>Embarked</th>\n",
       "    </tr>\n",
       "  </thead>\n",
       "  <tbody>\n",
       "    <tr>\n",
       "      <th>0</th>\n",
       "      <td>1</td>\n",
       "      <td>0</td>\n",
       "      <td>3</td>\n",
       "      <td>Braund, Mr. Owen Harris</td>\n",
       "      <td>male</td>\n",
       "      <td>22.0</td>\n",
       "      <td>1</td>\n",
       "      <td>0</td>\n",
       "      <td>A/5 21171</td>\n",
       "      <td>7.2500</td>\n",
       "      <td>NaN</td>\n",
       "      <td>S</td>\n",
       "    </tr>\n",
       "    <tr>\n",
       "      <th>1</th>\n",
       "      <td>2</td>\n",
       "      <td>1</td>\n",
       "      <td>1</td>\n",
       "      <td>Cumings, Mrs. John Bradley (Florence Briggs Th...</td>\n",
       "      <td>female</td>\n",
       "      <td>38.0</td>\n",
       "      <td>1</td>\n",
       "      <td>0</td>\n",
       "      <td>PC 17599</td>\n",
       "      <td>71.2833</td>\n",
       "      <td>C85</td>\n",
       "      <td>C</td>\n",
       "    </tr>\n",
       "    <tr>\n",
       "      <th>2</th>\n",
       "      <td>3</td>\n",
       "      <td>1</td>\n",
       "      <td>3</td>\n",
       "      <td>Heikkinen, Miss. Laina</td>\n",
       "      <td>female</td>\n",
       "      <td>26.0</td>\n",
       "      <td>0</td>\n",
       "      <td>0</td>\n",
       "      <td>STON/O2. 3101282</td>\n",
       "      <td>7.9250</td>\n",
       "      <td>NaN</td>\n",
       "      <td>S</td>\n",
       "    </tr>\n",
       "    <tr>\n",
       "      <th>3</th>\n",
       "      <td>4</td>\n",
       "      <td>1</td>\n",
       "      <td>1</td>\n",
       "      <td>Futrelle, Mrs. Jacques Heath (Lily May Peel)</td>\n",
       "      <td>female</td>\n",
       "      <td>35.0</td>\n",
       "      <td>1</td>\n",
       "      <td>0</td>\n",
       "      <td>113803</td>\n",
       "      <td>53.1000</td>\n",
       "      <td>C123</td>\n",
       "      <td>S</td>\n",
       "    </tr>\n",
       "    <tr>\n",
       "      <th>4</th>\n",
       "      <td>5</td>\n",
       "      <td>0</td>\n",
       "      <td>3</td>\n",
       "      <td>Allen, Mr. William Henry</td>\n",
       "      <td>male</td>\n",
       "      <td>35.0</td>\n",
       "      <td>0</td>\n",
       "      <td>0</td>\n",
       "      <td>373450</td>\n",
       "      <td>8.0500</td>\n",
       "      <td>NaN</td>\n",
       "      <td>S</td>\n",
       "    </tr>\n",
       "  </tbody>\n",
       "</table>\n",
       "</div>"
      ],
      "text/plain": [
       "   PassengerId  Survived  Pclass  \\\n",
       "0            1         0       3   \n",
       "1            2         1       1   \n",
       "2            3         1       3   \n",
       "3            4         1       1   \n",
       "4            5         0       3   \n",
       "\n",
       "                                                Name     Sex   Age  SibSp  \\\n",
       "0                            Braund, Mr. Owen Harris    male  22.0      1   \n",
       "1  Cumings, Mrs. John Bradley (Florence Briggs Th...  female  38.0      1   \n",
       "2                             Heikkinen, Miss. Laina  female  26.0      0   \n",
       "3       Futrelle, Mrs. Jacques Heath (Lily May Peel)  female  35.0      1   \n",
       "4                           Allen, Mr. William Henry    male  35.0      0   \n",
       "\n",
       "   Parch            Ticket     Fare Cabin Embarked  \n",
       "0      0         A/5 21171   7.2500   NaN        S  \n",
       "1      0          PC 17599  71.2833   C85        C  \n",
       "2      0  STON/O2. 3101282   7.9250   NaN        S  \n",
       "3      0            113803  53.1000  C123        S  \n",
       "4      0            373450   8.0500   NaN        S  "
      ]
     },
     "execution_count": 3,
     "metadata": {},
     "output_type": "execute_result"
    }
   ],
   "source": [
    "titanic_df = pd.read_csv('./titanic_train.csv')\n",
    "titanic_df.head()"
   ]
  },
  {
   "cell_type": "code",
   "execution_count": 4,
   "id": "4dd4b260",
   "metadata": {},
   "outputs": [
    {
     "name": "stdout",
     "output_type": "stream",
     "text": [
      "\n",
      " ### 학습 데이터 정보 ### \n",
      "\n",
      "<class 'pandas.core.frame.DataFrame'>\n",
      "RangeIndex: 891 entries, 0 to 890\n",
      "Data columns (total 12 columns):\n",
      " #   Column       Non-Null Count  Dtype  \n",
      "---  ------       --------------  -----  \n",
      " 0   PassengerId  891 non-null    int64  \n",
      " 1   Survived     891 non-null    int64  \n",
      " 2   Pclass       891 non-null    int64  \n",
      " 3   Name         891 non-null    object \n",
      " 4   Sex          891 non-null    object \n",
      " 5   Age          714 non-null    float64\n",
      " 6   SibSp        891 non-null    int64  \n",
      " 7   Parch        891 non-null    int64  \n",
      " 8   Ticket       891 non-null    object \n",
      " 9   Fare         891 non-null    float64\n",
      " 10  Cabin        204 non-null    object \n",
      " 11  Embarked     889 non-null    object \n",
      "dtypes: float64(2), int64(5), object(5)\n",
      "memory usage: 83.7+ KB\n",
      "None\n"
     ]
    }
   ],
   "source": [
    "print('\\n ### 학습 데이터 정보 ### \\n')\n",
    "print(titanic_df.info())"
   ]
  },
  {
   "cell_type": "code",
   "execution_count": 7,
   "id": "290ac13f",
   "metadata": {},
   "outputs": [
    {
     "name": "stdout",
     "output_type": "stream",
     "text": [
      "칼럼별 Null 값 개수\n",
      "PassengerId    0\n",
      "Survived       0\n",
      "Pclass         0\n",
      "Name           0\n",
      "Sex            0\n",
      "Age            0\n",
      "SibSp          0\n",
      "Parch          0\n",
      "Ticket         0\n",
      "Fare           0\n",
      "Cabin          0\n",
      "Embarked       0\n",
      "dtype: int64\n",
      "\n",
      "데이터 세트 Null 값 개수 =  0\n"
     ]
    }
   ],
   "source": [
    "'''\n",
    "Null인 값 처리하기 - fillna()\n",
    "inplace = True -> 원본 df 보존 없이 값 바로 채우기\n",
    "isnull() -> 결측값이면 true, 아니면 false 리턴\n",
    "'''\n",
    "titanic_df['Age'].fillna(titanic_df['Age'].mean(), inplace=True)\n",
    "titanic_df['Cabin'].fillna('N', inplace=True)\n",
    "titanic_df['Embarked'].fillna('N', inplace=True)\n",
    "print('칼럼별 Null 값 개수')\n",
    "print(titanic_df.isnull().sum())\n",
    "print('\\n데이터 세트 Null 값 개수 = ',titanic_df.isnull().sum().sum())"
   ]
  },
  {
   "cell_type": "code",
   "execution_count": 13,
   "id": "5cff46b8",
   "metadata": {},
   "outputs": [
    {
     "name": "stdout",
     "output_type": "stream",
     "text": [
      "Sex 값 분포\n",
      " male      577\n",
      "female    314\n",
      "Name: Sex, dtype: int64\n",
      "\n",
      " Cabin 값 분포\n",
      " N              687\n",
      "C23 C25 C27      4\n",
      "G6               4\n",
      "B96 B98          4\n",
      "F33              3\n",
      "              ... \n",
      "D47              1\n",
      "E50              1\n",
      "C95              1\n",
      "D15              1\n",
      "B78              1\n",
      "Name: Cabin, Length: 148, dtype: int64\n",
      "\n",
      " Embarked 값 분포\n",
      " S    644\n",
      "C    168\n",
      "Q     77\n",
      "N      2\n",
      "Name: Embarked, dtype: int64\n"
     ]
    }
   ],
   "source": [
    "'''\n",
    "문자열 피처 처리하기 - (1) : 값 분포 확인하기\n",
    "value_counts() - 어떤 컬럼이나 Series의 고유 값 개수를 리턴한다. \n",
    "'''\n",
    "print('Sex 값 분포\\n',titanic_df['Sex'].value_counts())\n",
    "print('\\n Cabin 값 분포\\n',titanic_df['Cabin'].value_counts())\n",
    "print('\\n Embarked 값 분포\\n',titanic_df['Embarked'].value_counts())"
   ]
  },
  {
   "cell_type": "code",
   "execution_count": 15,
   "id": "7da78e37",
   "metadata": {},
   "outputs": [
    {
     "data": {
      "text/plain": [
       "0    N\n",
       "1    C\n",
       "2    N\n",
       "3    C\n",
       "4    N\n",
       "Name: Cabin, dtype: object"
      ]
     },
     "execution_count": 15,
     "metadata": {},
     "output_type": "execute_result"
    }
   ],
   "source": [
    "'''\n",
    "선실 정보 Cabin 칼럼 정리\n",
    "- N이 무려 687개\n",
    "- 중요한 정보는 아무래도 선실 등급을 알려주는 맨 앞자리 -> 뒤에 것이 꼭 필요할까?\n",
    "'''\n",
    "titanic_df['Cabin'] = titanic_df['Cabin'].str[:1] # 선실 등급 알려주는 맨 앞자리만 가지도록 변경\n",
    "titanic_df['Cabin'].head()"
   ]
  },
  {
   "cell_type": "markdown",
   "id": "7f69d5af",
   "metadata": {},
   "source": [
    "## 성별에 따른 생존자 수 비교\n",
    "> Women and Children first\n",
    "\n",
    "1. 바다에서 사고가 날 경우 여성과 아이들, 그리고 노약자가 제일 먼저 구조 대상이 될 것이다. \n",
    "2. 그 다음에는 아마 부자..? 유명인..?\n",
    "3. 가난한 사람들은 아마 구조될 확률이 적을 것이다.. 그리고 가난한 사람들은 3등석에 탔을 확률이 높을 것이다,,"
   ]
  },
  {
   "cell_type": "code",
   "execution_count": 16,
   "id": "1dbe999f",
   "metadata": {},
   "outputs": [
    {
     "data": {
      "text/plain": [
       "Sex     Survived\n",
       "female  0            81\n",
       "        1           233\n",
       "male    0           468\n",
       "        1           109\n",
       "Name: Survived, dtype: int64"
      ]
     },
     "execution_count": 16,
     "metadata": {},
     "output_type": "execute_result"
    }
   ],
   "source": [
    "titanic_df.groupby(['Sex', 'Survived'])['Survived'].count()"
   ]
  },
  {
   "cell_type": "markdown",
   "id": "1434d41a",
   "metadata": {},
   "source": [
    "## 결론\n",
    "> Survived 0은 사망, 1은 생존이다. 승객 중 여성은 314명, 남성은 577명이다. 여성 중 생존자는 233명으로, 약 74.2%가 생존했지만, 남성 중 생존자는 109명으로, 약 18.8% 가 생존했다. 이를 막대 차트로 그리면 다음과 같다."
   ]
  },
  {
   "cell_type": "code",
   "execution_count": 18,
   "id": "a342fda9",
   "metadata": {},
   "outputs": [
    {
     "data": {
      "text/plain": [
       "<AxesSubplot:xlabel='Sex', ylabel='Survived'>"
      ]
     },
     "execution_count": 18,
     "metadata": {},
     "output_type": "execute_result"
    },
    {
     "data": {
      "image/png": "[encoded data removed]",
      "text/plain": [
       "<Figure size 432x288 with 1 Axes>"
      ]
     },
     "metadata": {
      "needs_background": "light"
     },
     "output_type": "display_data"
    }
   ],
   "source": [
    "sb.barplot(x='Sex', y='Survived', data=titanic_df)"
   ]
  },
  {
   "cell_type": "markdown",
   "id": "8b0d9f8b",
   "metadata": {},
   "source": [
    "## 부자와 가난한 사람 간 생존 확률 차이\n",
    "\n",
    "### 부자와 가난한 사람을 어떻게 구분할까?\n",
    "> 선실 등급(Pclass)을 활용하자!\n"
   ]
  },
  {
   "cell_type": "code",
   "execution_count": 19,
   "id": "13d337a5",
   "metadata": {},
   "outputs": [
    {
     "data": {
      "text/plain": [
       "<AxesSubplot:xlabel='Pclass', ylabel='Survived'>"
      ]
     },
     "execution_count": 19,
     "metadata": {},
     "output_type": "execute_result"
    },
    {
     "data": {
      "image/png": "[encoded data removed]",
      "text/plain": [
       "<Figure size 432x288 with 1 Axes>"
      ]
     },
     "metadata": {
      "needs_background": "light"
     },
     "output_type": "display_data"
    }
   ],
   "source": [
    "sb.barplot(x='Pclass', y='Survived', hue='Sex', data=titanic_df)"
   ]
  },
  {
   "cell_type": "markdown",
   "id": "b66b67b9",
   "metadata": {},
   "source": [
    "## 정리\n",
    "\n",
    "### 여성\n",
    "> 여성의 경우 1, 2등실의 생존 확률에 차이가 크게 없으나, 3등실의 경우 생존 확률이 상대적으로 많이 떨어진다. \n",
    "\n",
    "### 남성\n",
    "> 남성의 경우 1등석 생존 확률이 2, 3등실 생존 확률보다 월등히 높다."
   ]
  },
  {
   "cell_type": "markdown",
   "id": "c5c7d754",
   "metadata": {},
   "source": [
    "## 나이에 따른 생존 확률 알아보기\n",
    "\n",
    "- 0~5세 : Baby\n",
    "- 6~12세 : Child\n",
    "- 13~18세 : Teenager\n",
    "- 19~25세 : Student\n",
    "- 26~35세 : Young Adult\n",
    "- 36~60세 : Adult\n",
    "- 61세 이상 : Elderly\n",
    "- -1 이하의 오류값 : Unkown"
   ]
  },
  {
   "cell_type": "code",
   "execution_count": 30,
   "id": "77a04792",
   "metadata": {},
   "outputs": [
    {
     "data": {
      "text/plain": [
       "<AxesSubplot:xlabel='Age_cat', ylabel='Survived'>"
      ]
     },
     "execution_count": 30,
     "metadata": {},
     "output_type": "execute_result"
    },
    {
     "data": {
      "image/png": "[encoded data removed]",
      "text/plain": [
       "<Figure size 720x432 with 1 Axes>"
      ]
     },
     "metadata": {
      "needs_background": "light"
     },
     "output_type": "display_data"
    }
   ],
   "source": [
    "# 입력 나이에 따라 구분 값을 반환하는 함수 get_category\n",
    "def get_category(age):\n",
    "    cat=''\n",
    "    if age <= -1 : cat='Unkown'\n",
    "    elif age <= 5 : cat='Baby'\n",
    "    elif age <= 12 : cat='Child'\n",
    "    elif age <= 18 : cat='Teenager'\n",
    "    elif age <= 25 : cat='Student'\n",
    "    elif age <= 35 : cat='Young Adult'\n",
    "    elif age <= 60 : cat='Adult'\n",
    "    else: cat='Elderly'\n",
    "        \n",
    "    return cat\n",
    "\n",
    "# 막대 그래프의 크기 figure를 더 크게 설정 - figsize(가로길이, 세로길이)\n",
    "plt.figure(figsize=(10, 6))\n",
    "\n",
    "# X축의 값을 순차적으로 표시하기 위한 설정\n",
    "group_names = ['Unkown', 'Baby', 'Child', 'Teenager', 'Student', 'Young Adult', 'Adult', 'Elderly']\n",
    "\n",
    "# Age_cat이라는 새로운 칼럼 생성 - get_category() 이용\n",
    "titanic_df['Age_cat'] = titanic_df['Age'].apply(lambda age : get_category(age))\n",
    "sb.barplot(x='Age_cat', y='Survived', hue='Sex', data=titanic_df, order=group_names)"
   ]
  },
  {
   "cell_type": "code",
   "execution_count": 31,
   "id": "e49949bc",
   "metadata": {},
   "outputs": [],
   "source": [
    "# axis=1 : 열을 따라 동작한다. \n",
    "titanic_df.drop('Age_cat', axis=1, inplace=True)"
   ]
  },
  {
   "cell_type": "markdown",
   "id": "494d299f",
   "metadata": {},
   "source": [
    "## 정리\n",
    "예측과 다른 점\n",
    "- 여자 child의 경우 다른 연령대에 비해 생존 확률이 낮다.\n",
    "\n",
    "분석 결과\n",
    "> Sex, Age, PClass 등이 중요하게 생존을 좌우하는 피처임을 어느 정도 확인할 수 있다. 나머지 불필요한 피처들은 데이터 전처리 시 삭제가 필요함을 늒니다. 데이터 전처리 때 사용할 인코더 클래스는 LabelEncoder로 정했다. "
   ]
  },
  {
   "cell_type": "code",
   "execution_count": 32,
   "id": "71bc76fa",
   "metadata": {},
   "outputs": [
    {
     "data": {
      "text/html": [
       "<div>\n",
       "<style scoped>\n",
       "    .dataframe tbody tr th:only-of-type {\n",
       "        vertical-align: middle;\n",
       "    }\n",
       "\n",
       "    .dataframe tbody tr th {\n",
       "        vertical-align: top;\n",
       "    }\n",
       "\n",
       "    .dataframe thead th {\n",
       "        text-align: right;\n",
       "    }\n",
       "</style>\n",
       "<table border=\"1\" class=\"dataframe\">\n",
       "  <thead>\n",
       "    <tr style=\"text-align: right;\">\n",
       "      <th></th>\n",
       "      <th>PassengerId</th>\n",
       "      <th>Survived</th>\n",
       "      <th>Pclass</th>\n",
       "      <th>Name</th>\n",
       "      <th>Sex</th>\n",
       "      <th>Age</th>\n",
       "      <th>SibSp</th>\n",
       "      <th>Parch</th>\n",
       "      <th>Ticket</th>\n",
       "      <th>Fare</th>\n",
       "      <th>Cabin</th>\n",
       "      <th>Embarked</th>\n",
       "    </tr>\n",
       "  </thead>\n",
       "  <tbody>\n",
       "    <tr>\n",
       "      <th>0</th>\n",
       "      <td>1</td>\n",
       "      <td>0</td>\n",
       "      <td>3</td>\n",
       "      <td>Braund, Mr. Owen Harris</td>\n",
       "      <td>1</td>\n",
       "      <td>22.0</td>\n",
       "      <td>1</td>\n",
       "      <td>0</td>\n",
       "      <td>A/5 21171</td>\n",
       "      <td>7.2500</td>\n",
       "      <td>7</td>\n",
       "      <td>3</td>\n",
       "    </tr>\n",
       "    <tr>\n",
       "      <th>1</th>\n",
       "      <td>2</td>\n",
       "      <td>1</td>\n",
       "      <td>1</td>\n",
       "      <td>Cumings, Mrs. John Bradley (Florence Briggs Th...</td>\n",
       "      <td>0</td>\n",
       "      <td>38.0</td>\n",
       "      <td>1</td>\n",
       "      <td>0</td>\n",
       "      <td>PC 17599</td>\n",
       "      <td>71.2833</td>\n",
       "      <td>2</td>\n",
       "      <td>0</td>\n",
       "    </tr>\n",
       "    <tr>\n",
       "      <th>2</th>\n",
       "      <td>3</td>\n",
       "      <td>1</td>\n",
       "      <td>3</td>\n",
       "      <td>Heikkinen, Miss. Laina</td>\n",
       "      <td>0</td>\n",
       "      <td>26.0</td>\n",
       "      <td>0</td>\n",
       "      <td>0</td>\n",
       "      <td>STON/O2. 3101282</td>\n",
       "      <td>7.9250</td>\n",
       "      <td>7</td>\n",
       "      <td>3</td>\n",
       "    </tr>\n",
       "    <tr>\n",
       "      <th>3</th>\n",
       "      <td>4</td>\n",
       "      <td>1</td>\n",
       "      <td>1</td>\n",
       "      <td>Futrelle, Mrs. Jacques Heath (Lily May Peel)</td>\n",
       "      <td>0</td>\n",
       "      <td>35.0</td>\n",
       "      <td>1</td>\n",
       "      <td>0</td>\n",
       "      <td>113803</td>\n",
       "      <td>53.1000</td>\n",
       "      <td>2</td>\n",
       "      <td>3</td>\n",
       "    </tr>\n",
       "    <tr>\n",
       "      <th>4</th>\n",
       "      <td>5</td>\n",
       "      <td>0</td>\n",
       "      <td>3</td>\n",
       "      <td>Allen, Mr. William Henry</td>\n",
       "      <td>1</td>\n",
       "      <td>35.0</td>\n",
       "      <td>0</td>\n",
       "      <td>0</td>\n",
       "      <td>373450</td>\n",
       "      <td>8.0500</td>\n",
       "      <td>7</td>\n",
       "      <td>3</td>\n",
       "    </tr>\n",
       "  </tbody>\n",
       "</table>\n",
       "</div>"
      ],
      "text/plain": [
       "   PassengerId  Survived  Pclass  \\\n",
       "0            1         0       3   \n",
       "1            2         1       1   \n",
       "2            3         1       3   \n",
       "3            4         1       1   \n",
       "4            5         0       3   \n",
       "\n",
       "                                                Name  Sex   Age  SibSp  Parch  \\\n",
       "0                            Braund, Mr. Owen Harris    1  22.0      1      0   \n",
       "1  Cumings, Mrs. John Bradley (Florence Briggs Th...    0  38.0      1      0   \n",
       "2                             Heikkinen, Miss. Laina    0  26.0      0      0   \n",
       "3       Futrelle, Mrs. Jacques Heath (Lily May Peel)    0  35.0      1      0   \n",
       "4                           Allen, Mr. William Henry    1  35.0      0      0   \n",
       "\n",
       "             Ticket     Fare  Cabin  Embarked  \n",
       "0         A/5 21171   7.2500      7         3  \n",
       "1          PC 17599  71.2833      2         0  \n",
       "2  STON/O2. 3101282   7.9250      7         3  \n",
       "3            113803  53.1000      2         3  \n",
       "4            373450   8.0500      7         3  "
      ]
     },
     "execution_count": 32,
     "metadata": {},
     "output_type": "execute_result"
    }
   ],
   "source": [
    "from sklearn.preprocessing import LabelEncoder\n",
    "\n",
    "# 문자열 값 가지는 피처 인코딩하는 함수 \n",
    "def encode_features(df):\n",
    "    features = ['Cabin', 'Sex', 'Embarked']\n",
    "    for feature in features:\n",
    "        encoder = LabelEncoder()\n",
    "        encoder = encoder.fit(df[feature])\n",
    "        df[feature] = encoder.transform(df[feature])\n",
    "        \n",
    "    return df\n",
    "\n",
    "titanic_df = encode_features(titanic_df)\n",
    "titanic_df.head()"
   ]
  },
  {
   "cell_type": "markdown",
   "id": "608ae06b",
   "metadata": {},
   "source": [
    "# 위 내용을 함수로 만들어 다시 해보기"
   ]
  },
  {
   "cell_type": "code",
   "execution_count": 36,
   "id": "de486fbd",
   "metadata": {},
   "outputs": [],
   "source": [
    "# Null 처리 함수\n",
    "def fillna(df):\n",
    "    df['Age'].fillna(df['Age'].mean(), inplace=True)\n",
    "    df['Cabin'].fillna('N', inplace=True)\n",
    "    df['Embarked'].fillna('N', inplace=True)\n",
    "    df['Fare'].fillna(0, inplace=True)\n",
    "    \n",
    "    return df\n",
    "\n",
    "# 머신러닝 알고리즘에 불필요한 피처 제거 함수\n",
    "def drop_unnecessary_features(df):\n",
    "    df.drop(['PassengerId', 'Name', 'Ticket'], axis=1, inplace=True)\n",
    "    \n",
    "    return df\n",
    "\n",
    "# 레이블 인코딩 수행 함수\n",
    "def format_features(df):\n",
    "    df['Cabin'] = df['Cabin'].str[:1]\n",
    "    features = ['Cabin', 'Sex', 'Embarked']\n",
    "    for feature in features:\n",
    "        encoder = LabelEncoder()\n",
    "        encoder = encoder.fit(df[feature])\n",
    "        df[feature] = encoder.transform(df[feature])\n",
    "    \n",
    "    return df\n",
    "\n",
    "# 위 3개의 함수 호출하는 데이터 전처리 함수\n",
    "def transform_features(df):\n",
    "    df = fillna(df)\n",
    "    df = drop_unnecessary_features(df)\n",
    "    df = format_features(df)\n",
    "    \n",
    "    return df"
   ]
  },
  {
   "cell_type": "code",
   "execution_count": 37,
   "id": "b75afc4e",
   "metadata": {},
   "outputs": [],
   "source": [
    "# 원본 데이터 재로딩\n",
    "titanic_df = pd.read_csv('./titanic_train.csv')\n",
    "# Survived 속성만 클래스 결정값 데이터 세트로 만들기\n",
    "y_titanic_df = titanic_df['Survived']\n",
    "# Survived 속성을 드롭해 피처 데이터 세트를 만들기 \n",
    "X_titanic_df = titanic_df.drop('Survived', axis=1)\n",
    "\n",
    "# 피처 데이터 세트에 데이터 전처리 수행\n",
    "X_titanic_df = transform_features(X_titanic_df)"
   ]
  },
  {
   "cell_type": "code",
   "execution_count": 41,
   "id": "680d50fd",
   "metadata": {},
   "outputs": [],
   "source": [
    "# 데이터 전처리 수행 이후 학습, 테스트 데이터 세트 분리\n",
    "from sklearn.model_selection import train_test_split\n",
    "\n",
    "# 테스트 데이터 세트는 20%로 설정\n",
    "X_train, X_test, y_train, y_test = train_test_split(X_titanic_df, y_titanic_df, test_size=0.2, random_state=11)"
   ]
  },
  {
   "cell_type": "code",
   "execution_count": 43,
   "id": "ec261404",
   "metadata": {},
   "outputs": [
    {
     "name": "stdout",
     "output_type": "stream",
     "text": [
      "DecisionTreeClassifier 정확도 : 0.7877\n",
      "RandomForestClassifier 정확도 : 0.8547\n",
      "LogisticRegression 정확도 : 0.8659\n"
     ]
    }
   ],
   "source": [
    "# 머신러닝 알고리즘 이용해 학습, 예측 수행하고 정확도 평가하기\n",
    "from sklearn.tree import DecisionTreeClassifier\n",
    "from sklearn.ensemble import RandomForestClassifier\n",
    "from sklearn.linear_model import LogisticRegression\n",
    "from sklearn.metrics import accuracy_score\n",
    "\n",
    "# 결정 트리, Random Forest, 로지스틱 회귀를 위한 사이킷런 Classifier 객체 생성\n",
    "dt_clf = DecisionTreeClassifier(random_state=11)\n",
    "rf_clf = RandomForestClassifier(random_state=11)\n",
    "lr_clf = LogisticRegression(solver='liblinear')\n",
    "\n",
    "# 결정 트리 - 학습/예측\n",
    "dt_clf.fit(X_train, y_train)\n",
    "dt_pred = dt_clf.predict(X_test)\n",
    "print('DecisionTreeClassifier 정확도 : {0:.4f}'.format(accuracy_score(y_test, dt_pred)))\n",
    "\n",
    "# Random Forest - 학습/예측\n",
    "rf_clf.fit(X_train, y_train)\n",
    "rf_pred = rf_clf.predict(X_test)\n",
    "print('RandomForestClassifier 정확도 : {0:.4f}'.format(accuracy_score(y_test, rf_pred)))\n",
    "\n",
    "# 로지스틱 회귀 - 학습/예측\n",
    "lr_clf.fit(X_train, y_train)\n",
    "lr_pred = lr_clf.predict(X_test)\n",
    "print('LogisticRegression 정확도 : {0:.4f}'.format(accuracy_score(y_test, lr_pred)))"
   ]
  },
  {
   "cell_type": "code",
   "execution_count": 47,
   "id": "74ec5558",
   "metadata": {},
   "outputs": [
    {
     "name": "stdout",
     "output_type": "stream",
     "text": [
      "교차 검증 0 정확도 = 0.7542\n",
      "교차 검증 1 정확도 = 0.7809\n",
      "교차 검증 2 정확도 = 0.7865\n",
      "교차 검증 3 정확도 = 0.7697\n",
      "교차 검증 4 정확도 = 0.8202\n",
      "평균 정확도 = 0.7823\n"
     ]
    }
   ],
   "source": [
    "# 교차 검증 - (1) 수행\n",
    "from sklearn.model_selection import KFold\n",
    "\n",
    "def exec_kfold(clf, folds=5):\n",
    "    kfold = KFold(n_splits=5)\n",
    "    scores = []\n",
    "    \n",
    "    # KFold 교차 검증 수행\n",
    "    for iter_count, (train_index, test_index) in enumerate(kfold.split(X_titanic_df)):\n",
    "        # X_titanic_df 데이터에서 교차 검증별로 학습과 검증 데이터를 가리키는 index 생성\n",
    "        X_train, X_test = X_titanic_df.values[train_index], X_titanic_df.values[test_index]\n",
    "        y_train, y_test = y_titanic_df.values[train_index], y_titanic_df.values[test_index]\n",
    "        \n",
    "        # 학습, 예측, 정확도 평가\n",
    "        clf.fit(X_train, y_train)\n",
    "        clf_pred = clf.predict(X_test)\n",
    "        accuracy = accuracy_score(y_test, clf_pred)\n",
    "        scores.append(accuracy)\n",
    "        print('교차 검증 {0} 정확도 = {1:.4f}'.format(iter_count, accuracy))\n",
    "    \n",
    "    # 5개 fold에서의 평균 정확도 계산\n",
    "    mean_score = np.mean(scores)\n",
    "    print('평균 정확도 = {0:.4f}'.format(mean_score))\n",
    "\n",
    "# 함수 호출\n",
    "exec_kfold(dt_clf, folds=5)"
   ]
  },
  {
   "cell_type": "code",
   "execution_count": 48,
   "id": "766f1abf",
   "metadata": {},
   "outputs": [
    {
     "name": "stdout",
     "output_type": "stream",
     "text": [
      "교차 검증 0 정확도 = 0.7430\n",
      "교차 검증 1 정확도 = 0.7753\n",
      "교차 검증 2 정확도 = 0.7921\n",
      "교차 검증 3 정확도 = 0.7865\n",
      "교차 검증 4 정확도 = 0.8427\n",
      "평균 정확도 = 0.7879\n"
     ]
    }
   ],
   "source": [
    "# 교차 검증 - (2) 수행 \n",
    "from sklearn.model_selection import cross_val_score\n",
    "\n",
    "scores = cross_val_score(dt_clf, X_titanic_df, y_titanic_df, cv=5)\n",
    "\n",
    "for iter_count, accuracy in enumerate(scores):\n",
    "    print('교차 검증 {0} 정확도 = {1:.4f}'.format(iter_count, accuracy))\n",
    "\n",
    "print('평균 정확도 = {0:.4f}'.format(np.mean(scores)))"
   ]
  },
  {
   "cell_type": "markdown",
   "id": "1e62c6d3",
   "metadata": {},
   "source": [
    "## KFold 교차 검증과 cross_val_score api 교차 검증 결과가 다른 이유\n",
    "> cross_val_score API는 KFold가 아닌 StratifiedKFold를 이용해 폴드 세트를 분할하기 때문이다. "
   ]
  },
  {
   "cell_type": "code",
   "execution_count": 51,
   "id": "3eeba6b3",
   "metadata": {},
   "outputs": [
    {
     "name": "stdout",
     "output_type": "stream",
     "text": [
      "GridSearchCV 최적 하이퍼 파라미터 :  {'max_depth': 3, 'min_samples_leaf': 5, 'min_samples_split': 2}\n",
      "GridSearchCV 최고 정확도 : 0.7992\n",
      "테스트 세트에서의 DecisionTreeClassifier 정확도 = 0.8715\n"
     ]
    }
   ],
   "source": [
    "# 교차 검증 - (3) 수행\n",
    "from sklearn.model_selection import GridSearchCV\n",
    "\n",
    "parameters = {'max_depth':[2,3,5,10], 'min_samples_split':[2,3,5], 'min_samples_leaf':[1,5,8]}\n",
    "\n",
    "grid_clf = GridSearchCV(dt_clf,param_grid=parameters, scoring='accuracy', cv=5)\n",
    "grid_clf.fit(X_train, y_train)\n",
    "\n",
    "print('GridSearchCV 최적 하이퍼 파라미터 : ', grid_clf.best_params_)\n",
    "print('GridSearchCV 최고 정확도 : {0:.4f}'.format(grid_clf.best_score_))\n",
    "best_clf = grid_clf.best_estimator_\n",
    "\n",
    "# GridSearchCV의 최적 하이퍼 파라미터로 학습된 estimator로 예측 및 평가 수행\n",
    "dpredictions = best_clf.predict(X_test)\n",
    "accuracy = accuracy_score(y_test, dpredictions)\n",
    "print('테스트 세트에서의 DecisionTreeClassifier 정확도 = {0:.4f}'.format(accuracy))"
   ]
  },
  {
   "cell_type": "markdown",
   "id": "0c4e1c0a",
   "metadata": {},
   "source": [
    "## 정리\n",
    "> 테스트 데이터 세트가 작으므로 하이퍼 파라미터 튜닝에 의한 예측 성능 향상이 8% 이상이나 증가한 것이지, 보통은 이 정도 수준으로 증가하기 매우 어렵다!"
   ]
  }
 ],
 "metadata": {
  "kernelspec": {
   "display_name": "Python 3",
   "language": "python",
   "name": "python3"
  },
  "language_info": {
   "codemirror_mode": {
    "name": "ipython",
    "version": 3
   },
   "file_extension": ".py",
   "mimetype": "text/x-python",
   "name": "python",
   "nbconvert_exporter": "python",
   "pygments_lexer": "ipython3",
   "version": "3.8.8"
  }
 },
 "nbformat": 4,
 "nbformat_minor": 5
}
